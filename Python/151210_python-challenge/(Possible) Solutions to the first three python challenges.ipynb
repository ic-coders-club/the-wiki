{
 "metadata": {
  "name": "",
  "signature": "sha256:f696c02ca554c6c0e78e394a787d2d999ec970c6dddc0fb43f63cdcfbace35db"
 },
 "nbformat": 3,
 "nbformat_minor": 0,
 "worksheets": [
  {
   "cells": [
    {
     "cell_type": "code",
     "collapsed": false,
     "input": [
      "# Challenge 0\n",
      "2**38"
     ],
     "language": "python",
     "metadata": {},
     "outputs": [
      {
       "metadata": {},
       "output_type": "pyout",
       "prompt_number": 39,
       "text": [
        "274877906944"
       ]
      }
     ],
     "prompt_number": 39
    },
    {
     "cell_type": "code",
     "collapsed": false,
     "input": [
      "# Challenge 1\n",
      "import string\n",
      "intab=string.ascii_lowercase\n",
      "print intab\n",
      "outab=intab[2:]+intab[0:2]\n",
      "print outab\n",
      "trans=string.maketrans(intab,outab)\n",
      "str=\"something like this ... \u00a3\u00a3 SOMETHIGN\"\n",
      "print str.translate(trans)"
     ],
     "language": "python",
     "metadata": {
      "slideshow": {
       "slide_type": "-"
      }
     },
     "outputs": [
      {
       "output_type": "stream",
       "stream": "stdout",
       "text": [
        "abcdefghijklmnopqrstuvwxyz\n",
        "cdefghijklmnopqrstuvwxyzab\n",
        "uqogvjkpi nkmg vjku ... \u00a3\u00a3 SOMETHIGN\n"
       ]
      }
     ],
     "prompt_number": 35
    },
    {
     "cell_type": "code",
     "collapsed": false,
     "input": [
      "# Challenge 2\n",
      "import pprint\n",
      "with open(\"/tmp/ocr.txt\") as inputfile:\n",
      "    tally={}\n",
      "    lines=[]\n",
      "    for line in inputfile:\n",
      "        lines.append(\"\".join(line.split()))\n",
      "        list1=list(line)\n",
      "        for unique_char in set(list1):\n",
      "            count=line.count(unique_char)\n",
      "            if unique_char in tally:\n",
      "                tally[unique_char]+=count\n",
      "            else:\n",
      "                tally[unique_char]=count\n",
      "    print \"URL is: \", \"\".join([ char for line in lines for char in line if tally[char]==1])\n",
      "    #print \"\\nFull set is: \"\n",
      "    #pprint.pprint(tally)"
     ],
     "language": "python",
     "metadata": {},
     "outputs": [
      {
       "output_type": "stream",
       "stream": "stdout",
       "text": [
        "URL is:  equality\n"
       ]
      }
     ],
     "prompt_number": 79
    },
    {
     "cell_type": "code",
     "collapsed": false,
     "input": [
      "# The list comprehension at the end of the last box is equivalent to:\n",
      "url=[]\n",
      "for line in lines:\n",
      "    for char in line:\n",
      "        if tally[char]==1:\n",
      "            url+=char\n",
      "print \"URL is: \",\"\".join(url)"
     ],
     "language": "python",
     "metadata": {},
     "outputs": [
      {
       "output_type": "stream",
       "stream": "stdout",
       "text": [
        "URL is:  equality\n"
       ]
      }
     ],
     "prompt_number": 78
    },
    {
     "cell_type": "code",
     "collapsed": false,
     "input": [],
     "language": "python",
     "metadata": {},
     "outputs": []
    }
   ],
   "metadata": {}
  }
 ]
}